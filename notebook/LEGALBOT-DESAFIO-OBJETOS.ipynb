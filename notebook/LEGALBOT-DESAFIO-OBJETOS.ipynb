{
 "cells": [
  {
   "cell_type": "code",
   "execution_count": 6,
   "metadata": {},
   "outputs": [],
   "source": [
    "import pandas as pd\n",
    "import requests"
   ]
  },
  {
   "cell_type": "markdown",
   "metadata": {},
   "source": [
    "## Data collection\n",
    "\n",
    "Se realiza la lectura de los objetos directamente desde el github de felipeares."
   ]
  },
  {
   "cell_type": "code",
   "execution_count": 7,
   "metadata": {
    "scrolled": false
   },
   "outputs": [],
   "source": [
    "url = 'https://raw.githubusercontent.com/felipeares/legalbot-desafio-objetos/master/objetos.txt'\n",
    "page = requests.get(url)\n",
    "#Se identificó visualmente que el separador de los objetos corresponde a los caracteres \\n\\n\n",
    "df_corpus = pd.DataFrame(page.text.split('\\n\\n'), columns = ['objeto'])"
   ]
  },
  {
   "cell_type": "code",
   "execution_count": 8,
   "metadata": {},
   "outputs": [
    {
     "data": {
      "text/html": [
       "<div>\n",
       "<style scoped>\n",
       "    .dataframe tbody tr th:only-of-type {\n",
       "        vertical-align: middle;\n",
       "    }\n",
       "\n",
       "    .dataframe tbody tr th {\n",
       "        vertical-align: top;\n",
       "    }\n",
       "\n",
       "    .dataframe thead th {\n",
       "        text-align: right;\n",
       "    }\n",
       "</style>\n",
       "<table border=\"1\" class=\"dataframe\">\n",
       "  <thead>\n",
       "    <tr style=\"text-align: right;\">\n",
       "      <th></th>\n",
       "      <th>objeto</th>\n",
       "    </tr>\n",
       "  </thead>\n",
       "  <tbody>\n",
       "    <tr>\n",
       "      <th>0</th>\n",
       "      <td>CONSTRUCCIÓN, ALQUILER DE OTROS TIPOS DE MAQUI...</td>\n",
       "    </tr>\n",
       "    <tr>\n",
       "      <th>1</th>\n",
       "      <td>el servicio de turismo por todo el territorio ...</td>\n",
       "    </tr>\n",
       "    <tr>\n",
       "      <th>2</th>\n",
       "      <td>SALON DE BELLEZA.</td>\n",
       "    </tr>\n",
       "    <tr>\n",
       "      <th>3</th>\n",
       "      <td>CURSOS ONLINE DE MUSICA, COCINA, CLASES DE MUS...</td>\n",
       "    </tr>\n",
       "    <tr>\n",
       "      <th>4</th>\n",
       "      <td>el ejercicio de la actividad comercial,importa...</td>\n",
       "    </tr>\n",
       "  </tbody>\n",
       "</table>\n",
       "</div>"
      ],
      "text/plain": [
       "                                              objeto\n",
       "0  CONSTRUCCIÓN, ALQUILER DE OTROS TIPOS DE MAQUI...\n",
       "1  el servicio de turismo por todo el territorio ...\n",
       "2                                  SALON DE BELLEZA.\n",
       "3  CURSOS ONLINE DE MUSICA, COCINA, CLASES DE MUS...\n",
       "4  el ejercicio de la actividad comercial,importa..."
      ]
     },
     "execution_count": 8,
     "metadata": {},
     "output_type": "execute_result"
    }
   ],
   "source": [
    "df_corpus.head()"
   ]
  },
  {
   "cell_type": "markdown",
   "metadata": {},
   "source": [
    "## Data Preprocessing"
   ]
  },
  {
   "cell_type": "code",
   "execution_count": 31,
   "metadata": {},
   "outputs": [
    {
     "name": "stderr",
     "output_type": "stream",
     "text": [
      "[nltk_data] Downloading package punkt to\n",
      "[nltk_data]     C:\\Users\\Jota\\AppData\\Roaming\\nltk_data...\n",
      "[nltk_data]   Package punkt is already up-to-date!\n",
      "[nltk_data] Downloading package stopwords to\n",
      "[nltk_data]     C:\\Users\\Jota\\AppData\\Roaming\\nltk_data...\n",
      "[nltk_data]   Package stopwords is already up-to-date!\n",
      "[nltk_data] Downloading package wordnet to\n",
      "[nltk_data]     C:\\Users\\Jota\\AppData\\Roaming\\nltk_data...\n",
      "[nltk_data]   Unzipping corpora\\wordnet.zip.\n"
     ]
    },
    {
     "data": {
      "text/plain": [
       "True"
      ]
     },
     "execution_count": 31,
     "metadata": {},
     "output_type": "execute_result"
    }
   ],
   "source": [
    "import nltk\n",
    "nltk.download('punkt')\n",
    "nltk.download('stopwords')\n",
    "nltk.download('wordnet')"
   ]
  },
  {
   "cell_type": "code",
   "execution_count": 37,
   "metadata": {},
   "outputs": [],
   "source": [
    "import string  #Se obtendrá los signos de puntuación\n",
    "from nltk.corpus import stopwords\n",
    "from nltk.stem import LancasterStemmer, WordNetLemmatizer,SnowballStemmer\n"
   ]
  },
  {
   "cell_type": "code",
   "execution_count": 41,
   "metadata": {},
   "outputs": [],
   "source": [
    "#Método limpieza inicial y tokenización\n",
    "def get_tokens_clean(objeto):\n",
    "    #Se deja el texto en minúscula\n",
    "    objeto = objeto.lower()\n",
    "    #Elimina tildes y diéresis\n",
    "    filtered_punctuation =  objeto.translate({ord(c): None for c in string.punctuation})\n",
    "    #tokeniza\n",
    "    tokens = nltk.word_tokenize(filtered_punctuation)\n",
    "    #Se eliminan stopwords (articulos, preposiciones, etc.)\n",
    "    no_stopwords = [word for word in tokens if word not in stopwords.words('spanish')]\n",
    "    \n",
    "    return no_stopwords\n",
    "\n",
    "#Función de derivacion \n",
    "def stem_words(tokens):\n",
    "    stemmer_spanish = SnowballStemmer('spanish')\n",
    "    stems = []\n",
    "    for word in tokens:\n",
    "        stem = stemmer_spanish.stem(word)\n",
    "        stems.append(stem)\n",
    "    return stems"
   ]
  },
  {
   "cell_type": "code",
   "execution_count": 47,
   "metadata": {},
   "outputs": [],
   "source": [
    "df_corpus['objeto_tokens'] = df_corpus['objeto'].map(get_tokens_clean)"
   ]
  },
  {
   "cell_type": "code",
   "execution_count": 49,
   "metadata": {},
   "outputs": [
    {
     "data": {
      "text/html": [
       "<div>\n",
       "<style scoped>\n",
       "    .dataframe tbody tr th:only-of-type {\n",
       "        vertical-align: middle;\n",
       "    }\n",
       "\n",
       "    .dataframe tbody tr th {\n",
       "        vertical-align: top;\n",
       "    }\n",
       "\n",
       "    .dataframe thead th {\n",
       "        text-align: right;\n",
       "    }\n",
       "</style>\n",
       "<table border=\"1\" class=\"dataframe\">\n",
       "  <thead>\n",
       "    <tr style=\"text-align: right;\">\n",
       "      <th></th>\n",
       "      <th>objeto</th>\n",
       "      <th>objeto_tokens</th>\n",
       "    </tr>\n",
       "  </thead>\n",
       "  <tbody>\n",
       "    <tr>\n",
       "      <th>435</th>\n",
       "      <td>El objeto será la Construccion, contratista Ob...</td>\n",
       "      <td>[objeto, construccion, contratista, obras, inm...</td>\n",
       "    </tr>\n",
       "    <tr>\n",
       "      <th>607</th>\n",
       "      <td>Transporte urbano, interurbano, nacional e int...</td>\n",
       "      <td>[transporte, urbano, interurbano, nacional, in...</td>\n",
       "    </tr>\n",
       "    <tr>\n",
       "      <th>1928</th>\n",
       "      <td>A) la Prestación de Servicios de Estudio, eval...</td>\n",
       "      <td>[prestación, servicios, estudio, evaluación, p...</td>\n",
       "    </tr>\n",
       "    <tr>\n",
       "      <th>58</th>\n",
       "      <td>Contratista en construcción (Carpintería, Alba...</td>\n",
       "      <td>[contratista, construcción, carpintería, albañ...</td>\n",
       "    </tr>\n",
       "    <tr>\n",
       "      <th>2313</th>\n",
       "      <td>ALQUILER DE OTROS TIPOS DE MAQUINARIA Y EQUIPO...</td>\n",
       "      <td>[alquiler, tipos, maquinaria, equipo, alquiler...</td>\n",
       "    </tr>\n",
       "    <tr>\n",
       "      <th>2317</th>\n",
       "      <td>DETECCION Y REVISION DE FALLAS DE VEHICULOS AU...</td>\n",
       "      <td>[deteccion, revision, fallas, vehiculos, autom...</td>\n",
       "    </tr>\n",
       "    <tr>\n",
       "      <th>1682</th>\n",
       "      <td>la inversión y explotación de recursos en toda...</td>\n",
       "      <td>[inversión, explotación, recursos, toda, clase...</td>\n",
       "    </tr>\n",
       "    <tr>\n",
       "      <th>660</th>\n",
       "      <td>Venta de insumos mineros. Suministro de insumo...</td>\n",
       "      <td>[venta, insumos, mineros, suministro, insumos,...</td>\n",
       "    </tr>\n",
       "    <tr>\n",
       "      <th>578</th>\n",
       "      <td>SERVICIOS PERSONALES DE EDUCACION Y OTROS SERV...</td>\n",
       "      <td>[servicios, personales, educacion, servicios, ...</td>\n",
       "    </tr>\n",
       "    <tr>\n",
       "      <th>2014</th>\n",
       "      <td>PRODUCCION DE EVENTOS, ACTIVIDADES PUBLICITARI...</td>\n",
       "      <td>[produccion, eventos, actividades, publicitari...</td>\n",
       "    </tr>\n",
       "  </tbody>\n",
       "</table>\n",
       "</div>"
      ],
      "text/plain": [
       "                                                 objeto  \\\n",
       "435   El objeto será la Construccion, contratista Ob...   \n",
       "607   Transporte urbano, interurbano, nacional e int...   \n",
       "1928  A) la Prestación de Servicios de Estudio, eval...   \n",
       "58    Contratista en construcción (Carpintería, Alba...   \n",
       "2313  ALQUILER DE OTROS TIPOS DE MAQUINARIA Y EQUIPO...   \n",
       "2317  DETECCION Y REVISION DE FALLAS DE VEHICULOS AU...   \n",
       "1682  la inversión y explotación de recursos en toda...   \n",
       "660   Venta de insumos mineros. Suministro de insumo...   \n",
       "578   SERVICIOS PERSONALES DE EDUCACION Y OTROS SERV...   \n",
       "2014  PRODUCCION DE EVENTOS, ACTIVIDADES PUBLICITARI...   \n",
       "\n",
       "                                          objeto_tokens  \n",
       "435   [objeto, construccion, contratista, obras, inm...  \n",
       "607   [transporte, urbano, interurbano, nacional, in...  \n",
       "1928  [prestación, servicios, estudio, evaluación, p...  \n",
       "58    [contratista, construcción, carpintería, albañ...  \n",
       "2313  [alquiler, tipos, maquinaria, equipo, alquiler...  \n",
       "2317  [deteccion, revision, fallas, vehiculos, autom...  \n",
       "1682  [inversión, explotación, recursos, toda, clase...  \n",
       "660   [venta, insumos, mineros, suministro, insumos,...  \n",
       "578   [servicios, personales, educacion, servicios, ...  \n",
       "2014  [produccion, eventos, actividades, publicitari...  "
      ]
     },
     "execution_count": 49,
     "metadata": {},
     "output_type": "execute_result"
    }
   ],
   "source": [
    "df_corpus.sample(10)"
   ]
  },
  {
   "cell_type": "code",
   "execution_count": null,
   "metadata": {},
   "outputs": [],
   "source": []
  }
 ],
 "metadata": {
  "kernelspec": {
   "display_name": "Python 3",
   "language": "python",
   "name": "python3"
  },
  "language_info": {
   "codemirror_mode": {
    "name": "ipython",
    "version": 3
   },
   "file_extension": ".py",
   "mimetype": "text/x-python",
   "name": "python",
   "nbconvert_exporter": "python",
   "pygments_lexer": "ipython3",
   "version": "3.6.6"
  }
 },
 "nbformat": 4,
 "nbformat_minor": 2
}
