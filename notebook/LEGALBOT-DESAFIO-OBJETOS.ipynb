{
 "cells": [
  {
   "cell_type": "code",
   "execution_count": 1,
   "metadata": {},
   "outputs": [],
   "source": [
    "import pandas as pd\n",
    "import requests"
   ]
  },
  {
   "cell_type": "markdown",
   "metadata": {},
   "source": [
    "## Data collection\n",
    "\n",
    "Se realiza la lectura de los objetos directamente desde el github de felipeares."
   ]
  },
  {
   "cell_type": "code",
   "execution_count": 2,
   "metadata": {
    "scrolled": false
   },
   "outputs": [],
   "source": [
    "url = 'https://raw.githubusercontent.com/felipeares/legalbot-desafio-objetos/master/objetos.txt'\n",
    "page = requests.get(url)\n",
    "#Se identificó visualmente que el separador de los objetos corresponde a los caracteres \\n\\n\n",
    "df_corpus = pd.DataFrame(page.text.split('\\n\\n'), columns = ['objeto'])"
   ]
  },
  {
   "cell_type": "code",
   "execution_count": 3,
   "metadata": {},
   "outputs": [
    {
     "data": {
      "text/html": [
       "<div>\n",
       "<style scoped>\n",
       "    .dataframe tbody tr th:only-of-type {\n",
       "        vertical-align: middle;\n",
       "    }\n",
       "\n",
       "    .dataframe tbody tr th {\n",
       "        vertical-align: top;\n",
       "    }\n",
       "\n",
       "    .dataframe thead th {\n",
       "        text-align: right;\n",
       "    }\n",
       "</style>\n",
       "<table border=\"1\" class=\"dataframe\">\n",
       "  <thead>\n",
       "    <tr style=\"text-align: right;\">\n",
       "      <th></th>\n",
       "      <th>objeto</th>\n",
       "    </tr>\n",
       "  </thead>\n",
       "  <tbody>\n",
       "    <tr>\n",
       "      <th>0</th>\n",
       "      <td>CONSTRUCCIÓN, ALQUILER DE OTROS TIPOS DE MAQUI...</td>\n",
       "    </tr>\n",
       "    <tr>\n",
       "      <th>1</th>\n",
       "      <td>el servicio de turismo por todo el territorio ...</td>\n",
       "    </tr>\n",
       "    <tr>\n",
       "      <th>2</th>\n",
       "      <td>SALON DE BELLEZA.</td>\n",
       "    </tr>\n",
       "    <tr>\n",
       "      <th>3</th>\n",
       "      <td>CURSOS ONLINE DE MUSICA, COCINA, CLASES DE MUS...</td>\n",
       "    </tr>\n",
       "    <tr>\n",
       "      <th>4</th>\n",
       "      <td>el ejercicio de la actividad comercial,importa...</td>\n",
       "    </tr>\n",
       "  </tbody>\n",
       "</table>\n",
       "</div>"
      ],
      "text/plain": [
       "                                              objeto\n",
       "0  CONSTRUCCIÓN, ALQUILER DE OTROS TIPOS DE MAQUI...\n",
       "1  el servicio de turismo por todo el territorio ...\n",
       "2                                  SALON DE BELLEZA.\n",
       "3  CURSOS ONLINE DE MUSICA, COCINA, CLASES DE MUS...\n",
       "4  el ejercicio de la actividad comercial,importa..."
      ]
     },
     "execution_count": 3,
     "metadata": {},
     "output_type": "execute_result"
    }
   ],
   "source": [
    "df_corpus.head()"
   ]
  },
  {
   "cell_type": "markdown",
   "metadata": {},
   "source": [
    "## Data Preprocessing"
   ]
  },
  {
   "cell_type": "code",
   "execution_count": 4,
   "metadata": {},
   "outputs": [
    {
     "name": "stderr",
     "output_type": "stream",
     "text": [
      "[nltk_data] Downloading package punkt to\n",
      "[nltk_data]     C:\\Users\\Jota\\AppData\\Roaming\\nltk_data...\n",
      "[nltk_data]   Package punkt is already up-to-date!\n",
      "[nltk_data] Downloading package stopwords to\n",
      "[nltk_data]     C:\\Users\\Jota\\AppData\\Roaming\\nltk_data...\n",
      "[nltk_data]   Package stopwords is already up-to-date!\n",
      "[nltk_data] Downloading package wordnet to\n",
      "[nltk_data]     C:\\Users\\Jota\\AppData\\Roaming\\nltk_data...\n",
      "[nltk_data]   Package wordnet is already up-to-date!\n"
     ]
    },
    {
     "data": {
      "text/plain": [
       "True"
      ]
     },
     "execution_count": 4,
     "metadata": {},
     "output_type": "execute_result"
    }
   ],
   "source": [
    "import nltk\n",
    "nltk.download('punkt')\n",
    "nltk.download('stopwords')\n",
    "nltk.download('wordnet')"
   ]
  },
  {
   "cell_type": "code",
   "execution_count": 5,
   "metadata": {},
   "outputs": [],
   "source": [
    "import string  #Se obtendrá los signos de puntuación\n",
    "from nltk.corpus import stopwords\n",
    "from nltk.stem import LancasterStemmer, WordNetLemmatizer, SnowballStemmer\n"
   ]
  },
  {
   "cell_type": "code",
   "execution_count": 6,
   "metadata": {},
   "outputs": [],
   "source": [
    "#Método limpieza inicial y tokenización\n",
    "def get_tokens_clean(objeto):\n",
    "    #Se deja el texto en minúscula\n",
    "    objeto = objeto.lower()\n",
    "    \n",
    "    #Elimina tildes\n",
    "    a,b = 'áéíóúü','aeiouu',\n",
    "    trans = str.maketrans(a,b)\n",
    "    objeto = objeto.translate(trans)\n",
    "    \n",
    "    #Elimina caracteres que no sean palabras\n",
    "    #En esta instancia se reemplazan los signos de puntuación por un espacio, ya que en algunos parragos\n",
    "    # hay palabras con puntuaciones sin espacios. Ejemplo : producto,comercial.\n",
    "    filtered_punctuation =  objeto.translate({ord(c): ' ' for c in string.punctuation}).replace('  ',' ')\n",
    "    \n",
    "    #tokeniza\n",
    "    tokens = nltk.word_tokenize(filtered_punctuation)\n",
    "    \n",
    "    #Se eliminan stopwords (articulos, preposiciones, etc.)\n",
    "    no_stopwords = [word for word in tokens if word not in stopwords.words('spanish')]\n",
    "       \n",
    "    return no_stopwords\n",
    "\n",
    "#Función de derivacion \n",
    "def stem_words(tokens):\n",
    "    stemmer_spanish = SnowballStemmer('spanish')\n",
    "    stems = []\n",
    "    for word in tokens:\n",
    "        stem = stemmer_spanish.stem(word)\n",
    "        stems.append(stem)\n",
    "    return stems\n",
    "\n",
    "#Elimina palabas menor a tres caracteres\n",
    "def delete_characteres(tokens):\n",
    "    return  [word for word in tokens if len(word)>3]\n",
    "\n",
    "#Lematización de verbos. Por ahora sólo palabras en inglés.\n",
    "def lemmatize_stemming(text):\n",
    "    return WordNetLemmatizer().lemmatize(text, pos='v')\n",
    "\n",
    "#Se eliminan palabras derivadas con alta frecuencia, ya que sesga los grupos.\n",
    "def replace_word_frequence(tokens):\n",
    "    replace_word = []\n",
    "    for word in tokens:\n",
    "        word = word.replace('activ','').replace('servici','')\n",
    "        if word == '': continue\n",
    "        replace_word.append(word)\n",
    "    return replace_word"
   ]
  },
  {
   "cell_type": "code",
   "execution_count": 7,
   "metadata": {},
   "outputs": [],
   "source": [
    "from gensim.corpora import Dictionary\n",
    "\n",
    "df_corpus['objeto_tokens'] = df_corpus['objeto'].map(get_tokens_clean)\n",
    "df_corpus['objeto_tokens'] = df_corpus['objeto_tokens'].map(delete_characteres) \n",
    "df_corpus['objeto_stemm']  = df_corpus['objeto_tokens'].map(stem_words)\n",
    "df_corpus['objeto_stemm']  = df_corpus['objeto_stemm'].map(replace_word_frequence)"
   ]
  },
  {
   "cell_type": "markdown",
   "metadata": {},
   "source": [
    "## Data exploration"
   ]
  },
  {
   "cell_type": "code",
   "execution_count": 8,
   "metadata": {},
   "outputs": [
    {
     "data": {
      "text/plain": [
       "\"import matplotlib.pyplot as plt\\nflat_list = [word for idx,array_word in df_corpus.iterrows() for word in array_word['objeto_stemm']]\\nword_group = pd.DataFrame(flat_list,index=flat_list,columns=['word'])['word']\\nword_group_count = word_group.value_counts()\\n## VENTAS POR MES ####\\nplt.figure(figsize=(15, 15))\\nplt.ion()\\n\\nplt.plot(word_group_count[word_group_count>300], 'b')  # Dibujamos una línea recta azul\\nplt.xlabel('palabras')  # Ponemos etiqueta al eje x\\nplt.ylabel(u'Cantidad')  # Ponemos etiqueta al eje y\\nplt.xticks(rotation=90)\\nplt.show()\""
      ]
     },
     "execution_count": 8,
     "metadata": {},
     "output_type": "execute_result"
    }
   ],
   "source": [
    "'''import matplotlib.pyplot as plt\n",
    "flat_list = [word for idx,array_word in df_corpus.iterrows() for word in array_word['objeto_stemm']]\n",
    "word_group = pd.DataFrame(flat_list,index=flat_list,columns=['word'])['word']\n",
    "word_group_count = word_group.value_counts()\n",
    "## VENTAS POR MES ####\n",
    "plt.figure(figsize=(15, 15))\n",
    "plt.ion()\n",
    "\n",
    "plt.plot(word_group_count[word_group_count>300], 'b')  # Dibujamos una línea recta azul\n",
    "plt.xlabel('palabras')  # Ponemos etiqueta al eje x\n",
    "plt.ylabel(u'Cantidad')  # Ponemos etiqueta al eje y\n",
    "plt.xticks(rotation=90)\n",
    "plt.show()'''"
   ]
  },
  {
   "cell_type": "markdown",
   "metadata": {},
   "source": [
    "Se genera un vector de la cantidad de veces que aparece cada palabra en el documento"
   ]
  },
  {
   "cell_type": "code",
   "execution_count": 9,
   "metadata": {
    "collapsed": true
   },
   "outputs": [
    {
     "data": {
      "text/plain": [
       "vent                2214\n",
       "tip                 1424\n",
       "product             1368\n",
       "tod                 1293\n",
       "menor               1234\n",
       "relacion            1192\n",
       "construccion        1172\n",
       "general             1096\n",
       "cualqui             1064\n",
       "clas                1036\n",
       "bien                 917\n",
       "propi                916\n",
       "transport            838\n",
       "compr                772\n",
       "comercializacion     756\n",
       "equip                749\n",
       "empres               674\n",
       "desarroll            665\n",
       "mayor                661\n",
       "obras                654\n",
       "fabricacion          649\n",
       "comerci              636\n",
       "objet                631\n",
       "importacion          628\n",
       "realiz               621\n",
       "articul              612\n",
       "cuent                590\n",
       "asesori              574\n",
       "maquinari            568\n",
       "distribucion         558\n",
       "                    ... \n",
       "holajateri             1\n",
       "compatibil             1\n",
       "parachoqu              1\n",
       "minidistribuidor       1\n",
       "juni                   1\n",
       "masofilaxi             1\n",
       "prevension             1\n",
       "peritaj                1\n",
       "escenograf             1\n",
       "solarium               1\n",
       "locat                  1\n",
       "podium                 1\n",
       "textur                 1\n",
       "asient                 1\n",
       "business               1\n",
       "menton                 1\n",
       "acreenci               1\n",
       "marroquineri           1\n",
       "anteoj                 1\n",
       "medall                 1\n",
       "ocasion                1\n",
       "quitamanch             1\n",
       "calefactor             1\n",
       "c0omercializ           1\n",
       "armeri                 1\n",
       "adquisiscion           1\n",
       "derm                   1\n",
       "ultralivian            1\n",
       "hiking                 1\n",
       "cerradur               1\n",
       "Name: word, Length: 4082, dtype: int64"
      ]
     },
     "execution_count": 9,
     "metadata": {},
     "output_type": "execute_result"
    }
   ],
   "source": [
    "flat_list = [word for tokens in df_corpus['objeto_stemm'].tolist() for word in tokens]\n",
    "word_group = pd.DataFrame(flat_list,index=flat_list,columns=['word'])['word']\n",
    "word_group_count = word_group.value_counts()\n",
    "#word_group_count"
   ]
  },
  {
   "cell_type": "markdown",
   "metadata": {},
   "source": [
    "Se eliminan palabras con alta frecuencia, ya que entrega poca importancia al momento de generar los tópicos.\n",
    "Arbitrariamente, se elige el valor máximo de la frecuencia de la palabra (1000)"
   ]
  },
  {
   "cell_type": "code",
   "execution_count": 76,
   "metadata": {},
   "outputs": [],
   "source": [
    "def delete_words_frequence(tokens):\n",
    "    return [word for word in tokens if word not in word_group_count[word_group_count<10]]"
   ]
  },
  {
   "cell_type": "code",
   "execution_count": 77,
   "metadata": {},
   "outputs": [],
   "source": [
    "df_corpus['no_frequence_words'] = df_corpus['objeto_stemm'].map(delete_words_frequence)"
   ]
  },
  {
   "cell_type": "markdown",
   "metadata": {},
   "source": [
    "## Create dictionary"
   ]
  },
  {
   "cell_type": "code",
   "execution_count": 78,
   "metadata": {},
   "outputs": [],
   "source": [
    "#Se crea diccionario\n",
    "dct = Dictionary(df_corpus['no_frequence_words'].tolist())"
   ]
  },
  {
   "cell_type": "markdown",
   "metadata": {},
   "source": [
    "## Bag of Words on the Data set"
   ]
  },
  {
   "cell_type": "markdown",
   "metadata": {},
   "source": [
    "Representa el texto como una bolsa de palabras y su frecuencia de aparición, sin tener en cuenta gramática ni orden de palabras"
   ]
  },
  {
   "cell_type": "code",
   "execution_count": 79,
   "metadata": {},
   "outputs": [],
   "source": [
    "from gensim import corpora, models\n",
    "\n",
    "df_corpus['bow']   = df_corpus['no_frequence_words'].map(dct.doc2bow)\n",
    "corpus_bow = df_corpus['bow'].tolist()"
   ]
  },
  {
   "cell_type": "markdown",
   "metadata": {},
   "source": [
    "## TF-IDF"
   ]
  },
  {
   "cell_type": "markdown",
   "metadata": {},
   "source": [
    "La columna tf_idf corresponde a un valor real lo cuál entrega como utilidad la importancia de una palabra en base en una colección de documentos, en este contexto corresponde a sólo un documento. Sus componente principales corresponden a TF(Frecuencia del término), donde básicamente genera la frecuencia de la palabra en su documento multiplicado por el IDF(Frecuencia del término inverso) trabaja mediante la cantidad de documentos que contiene la palabra que tiene como input, ésto dividido en la cantidad total de documentos de la colección, siendo ésta última división parámetro de entreda de la función de Logaritmo natural.\n",
    "\n",
    "representa cómo de importante es una palabra en un documento dentro de un conjunto de documentos. El valor tf-idf aumenta proporcionalmente al número de veces que una palabra aparece en el documento, pero es compensada por la frecuencia de la palabra dentro del conjunto de documentos. De esta manera, se gestiona el hecho de que algunas palabras son más comunes que otras."
   ]
  },
  {
   "cell_type": "code",
   "execution_count": 80,
   "metadata": {},
   "outputs": [],
   "source": [
    "model_tfidf = models.TfidfModel(corpus_bow)\n",
    "df_corpus['tf_idf'] = model_tfidf[df_corpus.bow.tolist()]\n",
    "corpus_tfidf = df_corpus['tf_idf'].tolist()"
   ]
  },
  {
   "cell_type": "markdown",
   "metadata": {},
   "source": [
    "## LDA "
   ]
  },
  {
   "cell_type": "markdown",
   "metadata": {},
   "source": [
    "extensión de pLSA, y a diferencia de la familia de modelos LSI, es un modelo generativo que representa los documentos como una mezcla de topics formados por palabras con una probabilidad (que se parece más a lo que es un documento real). Esto hace que LDA sea el método más común para extraer topics (topic modeling). Esto es, cada documento tendrá asociado n topics con una probabilidad. LDA descubre automáticamente estos topics, los cuales siguen una distribución Dirichlet. La parte de latente viene en este caso porque en estadística, una variable que hay que inferir en vez de observar se llama variable latente. En nuestro caso, observamos las palabras y no los temas, con lo que nuestras variables latentes son los temas."
   ]
  },
  {
   "cell_type": "markdown",
   "metadata": {},
   "source": [
    "#### Running LDA using Bag of Words"
   ]
  },
  {
   "cell_type": "code",
   "execution_count": 81,
   "metadata": {},
   "outputs": [],
   "source": [
    "from gensim import models\n",
    "from gensim.models.coherencemodel import CoherenceModel"
   ]
  },
  {
   "cell_type": "code",
   "execution_count": 91,
   "metadata": {},
   "outputs": [],
   "source": [
    "def run_lda_bow(topic_number):\n",
    "    lda_model_path = \"embedding/lda_model_bow\"\n",
    "    lda_model = models.LdaModel(corpus_bow, num_topics=topic_number, id2word=dct, passes=5, iterations=500)\n",
    "    df_corpus['lda'] = lda_model[df_corpus.bow.tolist()]\n",
    "    lda_model.save(lda_model_path)\n",
    "    return lda_model    "
   ]
  },
  {
   "cell_type": "markdown",
   "metadata": {},
   "source": [
    "#### Running LDA using TF-IDF"
   ]
  },
  {
   "cell_type": "code",
   "execution_count": 83,
   "metadata": {},
   "outputs": [],
   "source": [
    "def run_lda_tfidf(topic_number):\n",
    "    lda_model_path = \"embedding/lda_model_tfidf\"\n",
    "    lda_model = models.LdaMulticore(corpus_tfidf, num_topics=topic_number, id2word=dct, passes=5, workers=4)\n",
    "    #df_corpus['lda_tfidf'] = lda_model[df_corpus.tf_idf.tolist()]\n",
    "    lda_model.save(lda_model_path)\n",
    "    return lda_model    "
   ]
  },
  {
   "cell_type": "markdown",
   "metadata": {},
   "source": [
    "## Optimization number of topics"
   ]
  },
  {
   "cell_type": "code",
   "execution_count": 90,
   "metadata": {},
   "outputs": [],
   "source": [
    "def compute_coherence_values(dictionary, corpus, texts, start, limit):\n",
    "    coherence_values = []\n",
    "    model_list = []\n",
    "    for num_topics in range(start, limit):\n",
    "        model=models.LdaModel(corpus=corpus          #Corpus\n",
    "                            , id2word=dictionary     #Diccionario\n",
    "                            , num_topics=num_topics  #Número de tópicos\n",
    "                            , passes=5               #Cuántas veces se supone que el algoritmo pasa sobre todo el corpus\n",
    "                            , iterations=500         #Se establece un limite para la convergencia\n",
    "                            )\n",
    "        model_list.append(model)\n",
    "        coherencemodel = CoherenceModel(model=model, texts=texts, dictionary=dictionary, coherence='c_v')\n",
    "        coherence_values.append((num_topics,coherencemodel.get_coherence()))\n",
    "        print('Numero de topicos : {}, valor coherencia : {}'.format(num_topics,coherencemodel.get_coherence()))\n",
    "    return model_list, coherence_values"
   ]
  },
  {
   "cell_type": "markdown",
   "metadata": {},
   "source": [
    "## Visualización"
   ]
  },
  {
   "cell_type": "markdown",
   "metadata": {},
   "source": [
    "Mediante el package pyLDAvis, podemos visualizar los grupos que se han formado. Analizar sus tamaños, la distancia entre ellos o su solapamiento. En conjunto con la frecuencia de las palabras que pertenecen a cada grupo."
   ]
  },
  {
   "cell_type": "code",
   "execution_count": 87,
   "metadata": {},
   "outputs": [],
   "source": [
    "import pyLDAvis\n",
    "import pyLDAvis.gensim\n",
    "\n",
    "pyLDAvis.enable_notebook()\n",
    "\n",
    "\n",
    "def visualization_topics(model,corpus,name_html='test_topicos'):\n",
    "    LDAvis_prepared = pyLDAvis.gensim.prepare(model, corpus, dct)\n",
    "    pyLDAvis.save_html(LDAvis_prepared,name_html+str('.html'))\n",
    "    #pyLDAvis.show(LDAvis_prepared)\n",
    "    #pyLDAvis.display()\n",
    "\n",
    "import matplotlib.pyplot as plt\n",
    "\n",
    "def plt_topics_coherence(lista):\n",
    "    x_val = [x[0] for x in lista]\n",
    "    y_val = [x[1] for x in lista]\n",
    "        \n",
    "    plt.figure(figsize=(15, 15))\n",
    "    plt.ion()\n",
    "    plt.ylim(0,1)\n",
    "    plt.plot(x_val,y_val)\n",
    "    plt.plot(x_val,y_val,'or')\n",
    "    plt.xlabel('Tópicos')  # Ponemos etiqueta al eje x\n",
    "    plt.ylabel(u'Value coherence')  # Ponemos etiqueta al eje y\n",
    "    plt.show()"
   ]
  },
  {
   "cell_type": "markdown",
   "metadata": {},
   "source": [
    "## Call metodos LDA y optimización de k-tópicos"
   ]
  },
  {
   "cell_type": "markdown",
   "metadata": {},
   "source": [
    "Ejecución de modelos con distintos numeros de tópicos. Éstos serán evaluados según su valor de coherencia.- TFIDF"
   ]
  },
  {
   "cell_type": "code",
   "execution_count": 88,
   "metadata": {},
   "outputs": [
    {
     "name": "stdout",
     "output_type": "stream",
     "text": [
      "Numero de topicos : 5, valor coherencia : 0.5004624703736953\n",
      "Numero de topicos : 6, valor coherencia : 0.49560896660672754\n",
      "Numero de topicos : 7, valor coherencia : 0.48572896381506003\n",
      "Numero de topicos : 8, valor coherencia : 0.4873374912575926\n",
      "Numero de topicos : 9, valor coherencia : 0.44471231652931364\n",
      "Numero de topicos : 10, valor coherencia : 0.4579667196984613\n",
      "Numero de topicos : 11, valor coherencia : 0.4355455509723221\n",
      "Numero de topicos : 12, valor coherencia : 0.4957171498775374\n",
      "Numero de topicos : 13, valor coherencia : 0.4840660210839065\n",
      "Numero de topicos : 14, valor coherencia : 0.46959106560568475\n"
     ]
    },
    {
     "data": {
      "image/png": "[encoded data removed]",
      "text/plain": [
       "<Figure size 1080x1080 with 1 Axes>"
      ]
     },
     "metadata": {
      "needs_background": "light"
     },
     "output_type": "display_data"
    }
   ],
   "source": [
    "models_tfidf, list_topics_coherence_tfidf = compute_coherence_values(dct,corpus_tfidf,df_corpus['no_frequence_words'],5,15)\n",
    "plt_topics_coherence(list_topics_coherence_tfidf)"
   ]
  },
  {
   "cell_type": "markdown",
   "metadata": {},
   "source": [
    "Mediante la respuesta del gráfico anterior, podemos discriminar y elegir el número K conveniente para ejecutar."
   ]
  },
  {
   "cell_type": "code",
   "execution_count": 89,
   "metadata": {},
   "outputs": [
    {
     "name": "stderr",
     "output_type": "stream",
     "text": [
      "c:\\users\\jota\\appdata\\local\\programs\\python\\python36\\lib\\site-packages\\pyLDAvis\\_prepare.py:257: FutureWarning: Sorting because non-concatenation axis is not aligned. A future version\n",
      "of pandas will change to not sort by default.\n",
      "\n",
      "To accept the future behavior, pass 'sort=False'.\n",
      "\n",
      "To retain the current behavior and silence the warning, pass 'sort=True'.\n",
      "\n",
      "  return pd.concat([default_term_info] + list(topic_dfs))\n"
     ]
    }
   ],
   "source": [
    "number_topics = 12 \n",
    "lda_model_tfidf    =  run_lda_tfidf(number_topics)\n",
    "visualization_topics(lda_model_tfidf,corpus_tfidf,'topics_tfidf')"
   ]
  },
  {
   "cell_type": "markdown",
   "metadata": {},
   "source": [
    "Ejecución de modelos con distintos numeros de tópicos. Éstos serán evaluados según su valor de coherencia.- BOW"
   ]
  },
  {
   "cell_type": "code",
   "execution_count": 93,
   "metadata": {},
   "outputs": [
    {
     "name": "stdout",
     "output_type": "stream",
     "text": [
      "Numero de topicos : 5, valor coherencia : 0.5158045028283267\n",
      "Numero de topicos : 6, valor coherencia : 0.5532939910543321\n",
      "Numero de topicos : 7, valor coherencia : 0.507857636833768\n",
      "Numero de topicos : 8, valor coherencia : 0.5377393962490642\n",
      "Numero de topicos : 9, valor coherencia : 0.5472713441008765\n",
      "Numero de topicos : 10, valor coherencia : 0.5657921619169424\n",
      "Numero de topicos : 11, valor coherencia : 0.5815493381762926\n",
      "Numero de topicos : 12, valor coherencia : 0.5651518098109269\n",
      "Numero de topicos : 13, valor coherencia : 0.5505207929458076\n",
      "Numero de topicos : 14, valor coherencia : 0.5364067373542439\n"
     ]
    },
    {
     "data": {
      "image/png": "[encoded data removed]",
      "text/plain": [
       "<Figure size 1080x1080 with 1 Axes>"
      ]
     },
     "metadata": {
      "needs_background": "light"
     },
     "output_type": "display_data"
    }
   ],
   "source": [
    "models_bow, list_topics_coherence_bow = compute_coherence_values(dct,corpus_bow,df_corpus['no_frequence_words'],5,15)\n",
    "plt_topics_coherence(list_topics_coherence_bow)"
   ]
  },
  {
   "cell_type": "code",
   "execution_count": 94,
   "metadata": {},
   "outputs": [
    {
     "name": "stderr",
     "output_type": "stream",
     "text": [
      "c:\\users\\jota\\appdata\\local\\programs\\python\\python36\\lib\\site-packages\\pyLDAvis\\_prepare.py:257: FutureWarning: Sorting because non-concatenation axis is not aligned. A future version\n",
      "of pandas will change to not sort by default.\n",
      "\n",
      "To accept the future behavior, pass 'sort=False'.\n",
      "\n",
      "To retain the current behavior and silence the warning, pass 'sort=True'.\n",
      "\n",
      "  return pd.concat([default_term_info] + list(topic_dfs))\n"
     ]
    }
   ],
   "source": [
    "number_topics = 11\n",
    "lda_model_bow    =  run_lda_bow(number_topics)\n",
    "visualization_topics(lda_model_bow,corpus_bow,'topics_bow')"
   ]
  },
  {
   "cell_type": "markdown",
   "metadata": {},
   "source": [
    "### Anexos"
   ]
  },
  {
   "cell_type": "markdown",
   "metadata": {},
   "source": [
    "Conceptos : https://labs.beeva.com/conceptos-en-la-extracci%C3%B3n-autom%C3%A1tica-de-informaci%C3%B3n-de-documentos-c6dfcf6ba36a"
   ]
  },
  {
   "cell_type": "code",
   "execution_count": null,
   "metadata": {},
   "outputs": [],
   "source": []
  }
 ],
 "metadata": {
  "kernelspec": {
   "display_name": "Python 3",
   "language": "python",
   "name": "python3"
  },
  "language_info": {
   "codemirror_mode": {
    "name": "ipython",
    "version": 3
   },
   "file_extension": ".py",
   "mimetype": "text/x-python",
   "name": "python",
   "nbconvert_exporter": "python",
   "pygments_lexer": "ipython3",
   "version": "3.6.6"
  }
 },
 "nbformat": 4,
 "nbformat_minor": 2
}
